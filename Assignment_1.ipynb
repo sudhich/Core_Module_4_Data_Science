{
 "cells": [
  {
   "cell_type": "markdown",
   "id": "43cd9e42",
   "metadata": {},
   "source": [
    "### Ans(1):"
   ]
  },
  {
   "cell_type": "code",
   "execution_count": 1,
   "id": "f841a1f1",
   "metadata": {},
   "outputs": [
    {
     "name": "stdout",
     "output_type": "stream",
     "text": [
      "Enter a string: ' MAR MAR '\n",
      "Reversed string: ' RAM RAM '\n"
     ]
    }
   ],
   "source": [
    "def reverse_string(string):\n",
    "    reversed_string = \"\"\n",
    "    for i in range(len(string)-1, -1, -1):\n",
    "        reversed_string += string[i]\n",
    "    return reversed_string\n",
    "\n",
    "# Test the function\n",
    "input_string = input(\"Enter a string: \")\n",
    "reversed_string = reverse_string(input_string)\n",
    "print(\"Reversed string:\", reversed_string)"
   ]
  },
  {
   "cell_type": "markdown",
   "id": "0a4b9316",
   "metadata": {},
   "source": [
    "### Ans(2):"
   ]
  },
  {
   "cell_type": "code",
   "execution_count": 82,
   "id": "e54c893d",
   "metadata": {},
   "outputs": [
    {
     "name": "stdout",
     "output_type": "stream",
     "text": [
      "Enter a string: ' MA@@AM '\n",
      "The string is a palindrome.\n"
     ]
    }
   ],
   "source": [
    "def is_palindrome(string):\n",
    "    # Remove any whitespace and convert to lowercase\n",
    "    string = string.replace(\" \", \"\").lower()\n",
    "    # Compare the string with its reverse\n",
    "    return string == string[::-1]\n",
    "\n",
    "# Test the function\n",
    "input_string = input(\"Enter a string: \")\n",
    "if is_palindrome(input_string):\n",
    "    print(\"The string is a palindrome.\")\n",
    "else:\n",
    "    print(\"The string is not a palindrome.\")"
   ]
  },
  {
   "cell_type": "markdown",
   "id": "34bd79a2",
   "metadata": {},
   "source": [
    "### Ans(3):"
   ]
  },
  {
   "cell_type": "code",
   "execution_count": 11,
   "id": "19a110c6",
   "metadata": {},
   "outputs": [
    {
     "name": "stdout",
     "output_type": "stream",
     "text": [
      "Largest number is:  50\n"
     ]
    }
   ],
   "source": [
    "def find_largest_element(List):\n",
    "    if len(List)==0:\n",
    "        return None\n",
    "    \n",
    "    largest=List[0]\n",
    "    for item in List:\n",
    "        if item>largest:\n",
    "            largest=item\n",
    "    return largest\n",
    "\n",
    "List=[5, 10, 2, 8, 3, 50]\n",
    "largest_num = find_largest_element(List)\n",
    "print('Largest number is: ',largest_num)"
   ]
  },
  {
   "cell_type": "markdown",
   "id": "2f65857f",
   "metadata": {},
   "source": [
    "### Ans(4):"
   ]
  },
  {
   "cell_type": "code",
   "execution_count": 33,
   "id": "78ac0b1e",
   "metadata": {},
   "outputs": [
    {
     "name": "stdout",
     "output_type": "stream",
     "text": [
      "5occur : 3times\n",
      "10occur : 2times\n",
      "2occur : 1times\n",
      "8occur : 1times\n"
     ]
    }
   ],
   "source": [
    "def count_occurrences(List):\n",
    "    # create an empty dictionary\n",
    "    occurrences_count={}\n",
    "    for list_item in List:\n",
    "        if list_item in occurrences_count:\n",
    "            occurrences_count[list_item]+=1\n",
    "        else:\n",
    "            occurrences_count[list_item]=1\n",
    "    return occurrences_count\n",
    "        \n",
    "        \n",
    "List = [5, 10, 2, 8, 5, 5, 10]\n",
    "occurrences = count_occurrences(List)\n",
    "#print(occurrences) #{5: 3, 10: 2, 2: 1, 8: 1}\n",
    "for x,y in occurrences.items():\n",
    "    print(f\"{x}occur : {y}times\")"
   ]
  },
  {
   "cell_type": "code",
   "execution_count": 29,
   "id": "8cd15852",
   "metadata": {},
   "outputs": [],
   "source": [
    "#Example\n",
    "#print(occurrences) #{5: 3, 10: 2, 2: 1, 8: 1}\n",
    "#thisdict = {\n",
    "#  \"brand\": \"Ford\",\n",
    "#  \"model\": \"Mustang\",\n",
    "#  \"year\": 1964\n",
    "#}\n",
    "#thisdict[\"color\"] = \"red\"\n",
    "#print(thisdict)  #{'brand': 'Ford', 'model': 'Mustang', 'year': 1964, 'color': 'red'}\n"
   ]
  },
  {
   "cell_type": "markdown",
   "id": "356db57d",
   "metadata": {},
   "source": [
    "### Ans(5):"
   ]
  },
  {
   "cell_type": "code",
   "execution_count": 50,
   "id": "8e5d0c71",
   "metadata": {},
   "outputs": [
    {
     "name": "stdout",
     "output_type": "stream",
     "text": [
      "100\n"
     ]
    }
   ],
   "source": [
    "def find_second_large_num(my_list):\n",
    "    if len(my_list)==1:\n",
    "        return None\n",
    "    largest_num=float('-inf')\n",
    "    second_largest=float('-inf')\n",
    "    for item in my_list:\n",
    "        if item > largest_num:\n",
    "            second_largest = largest_num\n",
    "            largest_num = item\n",
    "        elif item > second_largest and item < largest_num:\n",
    "            second_largest = item\n",
    "    return second_largest\n",
    "\n",
    "my_list = [10, 20, 4, 45, 99, 500, 100]\n",
    "second_largest_number=find_second_large_num(my_list)\n",
    "print(second_largest_number)"
   ]
  },
  {
   "cell_type": "markdown",
   "id": "940a8f40",
   "metadata": {},
   "source": [
    "### 2nd Method"
   ]
  },
  {
   "cell_type": "code",
   "execution_count": 34,
   "id": "9754a035",
   "metadata": {},
   "outputs": [
    {
     "name": "stdout",
     "output_type": "stream",
     "text": [
      "Second largest element is: 45\n"
     ]
    }
   ],
   "source": [
    "list1 = [10, 20, 4, 45, 99]\n",
    "# print second maximum element using sorted() method\n",
    "print(\"Second largest element is:\", sorted(list1)[-2])"
   ]
  },
  {
   "cell_type": "markdown",
   "id": "6359b1a3",
   "metadata": {},
   "source": [
    "### Ans(6):"
   ]
  },
  {
   "cell_type": "code",
   "execution_count": 1,
   "id": "a845a6d7",
   "metadata": {},
   "outputs": [
    {
     "name": "stdout",
     "output_type": "stream",
     "text": [
      "List with duplicates removed: [1, 2, 3, 4, 5]\n"
     ]
    }
   ],
   "source": [
    "def remove_duplicates(lst):\n",
    "    unique_list = []\n",
    "    for item in lst:\n",
    "        if item not in unique_list:\n",
    "            unique_list.append(item)\n",
    "    return unique_list\n",
    "\n",
    "numbers = [1, 2, 3, 2, 1, 2, 3, 4, 5, 3]\n",
    "unique_numbers = remove_duplicates(numbers)\n",
    "print(\"List with duplicates removed:\", unique_numbers)"
   ]
  },
  {
   "cell_type": "markdown",
   "id": "54b2ea09",
   "metadata": {},
   "source": [
    "### Ans(7):"
   ]
  },
  {
   "cell_type": "code",
   "execution_count": 2,
   "id": "d7aedc92",
   "metadata": {},
   "outputs": [
    {
     "name": "stdout",
     "output_type": "stream",
     "text": [
      "Factorial of 5 is 120\n"
     ]
    }
   ],
   "source": [
    "def factorial(n):\n",
    "    if n == 0:\n",
    "        return 1\n",
    "    else:\n",
    "        return n * factorial(n-1)\n",
    "\n",
    "number = 5\n",
    "factorial_result = factorial(number)\n",
    "print(\"Factorial of\", number, \"is\", factorial_result)"
   ]
  },
  {
   "cell_type": "markdown",
   "id": "0348b1a3",
   "metadata": {},
   "source": [
    "### Ans(8):"
   ]
  },
  {
   "cell_type": "code",
   "execution_count": 7,
   "id": "ef97a6dd",
   "metadata": {},
   "outputs": [
    {
     "name": "stdout",
     "output_type": "stream",
     "text": [
      "17 is a prime number.\n",
      "4 is not a prime number.\n"
     ]
    }
   ],
   "source": [
    "def is_prime(number):\n",
    "    if number <= 1:\n",
    "        return False\n",
    "    for i in range(2, int(number**0.5) + 1):\n",
    "        if number % i == 0:\n",
    "            return False\n",
    "    return True\n",
    "\n",
    "number = 17\n",
    "if is_prime(number):\n",
    "    print(number, \"is a prime number.\")\n",
    "else:\n",
    "    print(number, \"is not a prime number.\")\n",
    "    \n",
    "    \n",
    "number = 4\n",
    "if is_prime(number):\n",
    "    print(number, \"is a prime number.\")\n",
    "else:\n",
    "    print(number, \"is not a prime number.\")"
   ]
  },
  {
   "cell_type": "markdown",
   "id": "04f23cfa",
   "metadata": {},
   "source": [
    "### Ans(9):"
   ]
  },
  {
   "cell_type": "code",
   "execution_count": 8,
   "id": "8c3ee020",
   "metadata": {},
   "outputs": [
    {
     "name": "stdout",
     "output_type": "stream",
     "text": [
      "Sorted list: [1, 2, 3, 5, 7, 9]\n"
     ]
    }
   ],
   "source": [
    "def sort_list(lst):\n",
    "    sorted_list = lst[:]\n",
    "    for i in range(len(sorted_list)):\n",
    "        for j in range(i+1, len(sorted_list)):\n",
    "            if sorted_list[i] > sorted_list[j]:\n",
    "                sorted_list[i], sorted_list[j] = sorted_list[j], sorted_list[i]\n",
    "    return sorted_list\n",
    "\n",
    "numbers = [5, 2, 9, 1, 7, 3]\n",
    "sorted_numbers = sort_list(numbers)\n",
    "print(\"Sorted list:\", sorted_numbers)"
   ]
  },
  {
   "cell_type": "markdown",
   "id": "27c7731d",
   "metadata": {},
   "source": [
    "### Ans(10):"
   ]
  },
  {
   "cell_type": "code",
   "execution_count": 9,
   "id": "1a38598d",
   "metadata": {},
   "outputs": [
    {
     "name": "stdout",
     "output_type": "stream",
     "text": [
      "Sum of numbers: 15\n"
     ]
    }
   ],
   "source": [
    "def find_sum(lst):\n",
    "    total = 0\n",
    "    for num in lst:\n",
    "        total += num\n",
    "    return total\n",
    "\n",
    "numbers = [1, 2, 3, 4, 5]\n",
    "sum_of_numbers = find_sum(numbers)\n",
    "print(\"Sum of numbers:\", sum_of_numbers)"
   ]
  },
  {
   "cell_type": "markdown",
   "id": "be754263",
   "metadata": {},
   "source": [
    "### Ans(11):"
   ]
  },
  {
   "cell_type": "code",
   "execution_count": 10,
   "id": "c678adfb",
   "metadata": {},
   "outputs": [
    {
     "name": "stdout",
     "output_type": "stream",
     "text": [
      "Common elements: [4, 5]\n"
     ]
    }
   ],
   "source": [
    "def find_common_elements(list1, list2):\n",
    "    common_elements = []\n",
    "    for item in list1:\n",
    "        if item in list2 and item not in common_elements:\n",
    "            common_elements.append(item)\n",
    "    return common_elements\n",
    "\n",
    "list1 = [1, 2, 3, 4, 5]\n",
    "list2 = [4, 5, 6, 7, 8]\n",
    "common_elements = find_common_elements(list1, list2)\n",
    "print(\"Common elements:\", common_elements)\n"
   ]
  },
  {
   "cell_type": "markdown",
   "id": "442fb094",
   "metadata": {},
   "source": [
    "### Ans(12):"
   ]
  },
  {
   "cell_type": "code",
   "execution_count": 11,
   "id": "279f62ad",
   "metadata": {},
   "outputs": [
    {
     "name": "stdout",
     "output_type": "stream",
     "text": [
      "The strings are anagrams.\n"
     ]
    }
   ],
   "source": [
    "def is_anagram(str1, str2):\n",
    "    str1 = str1.replace(\" \", \"\").lower()\n",
    "    str2 = str2.replace(\" \", \"\").lower()\n",
    "    return sorted(str1) == sorted(str2)\n",
    "\n",
    "string1 = \"listen\"\n",
    "string2 = \"silent\"\n",
    "if is_anagram(string1, string2):\n",
    "    print(\"The strings are anagrams.\")\n",
    "else:\n",
    "    print(\"The strings are not anagrams.\")"
   ]
  },
  {
   "cell_type": "markdown",
   "id": "c4e85a39",
   "metadata": {},
   "source": [
    "### Ans(13):"
   ]
  },
  {
   "cell_type": "code",
   "execution_count": 12,
   "id": "83453d18",
   "metadata": {},
   "outputs": [
    {
     "name": "stdout",
     "output_type": "stream",
     "text": [
      "Permutations of abc : ['abc', 'acb', 'bac', 'bca', 'cab', 'cba']\n"
     ]
    }
   ],
   "source": [
    "def permutations(string):\n",
    "    if len(string) == 1:\n",
    "        return [string]\n",
    "    perms = []\n",
    "    for i in range(len(string)):\n",
    "        char = string[i]\n",
    "        remaining = string[:i] + string[i+1:]\n",
    "        for perm in permutations(remaining):\n",
    "            perms.append(char + perm)\n",
    "    return perms\n",
    "\n",
    "string = \"abc\"\n",
    "string_perms = permutations(string)\n",
    "print(\"Permutations of\", string, \":\", string_perms)"
   ]
  },
  {
   "cell_type": "markdown",
   "id": "7906addb",
   "metadata": {},
   "source": [
    "### Ans(14):"
   ]
  },
  {
   "cell_type": "code",
   "execution_count": 13,
   "id": "8bb35eb5",
   "metadata": {},
   "outputs": [
    {
     "name": "stdout",
     "output_type": "stream",
     "text": [
      "Fibonacci sequence: [0, 1, 1, 2, 3, 5, 8, 13, 21, 34, 55]\n"
     ]
    }
   ],
   "source": [
    "def fibonacci(n):\n",
    "    sequence = [0, 1]\n",
    "    if n <= 1:\n",
    "        return sequence[:n+1]\n",
    "    while len(sequence) < n+1:\n",
    "        next_num = sequence[-1] + sequence[-2]\n",
    "        sequence.append(next_num)\n",
    "    return sequence\n",
    "\n",
    "num_terms = 10\n",
    "fibonacci_sequence = fibonacci(num_terms)\n",
    "print(\"Fibonacci sequence:\", fibonacci_sequence)"
   ]
  },
  {
   "cell_type": "markdown",
   "id": "613e29d8",
   "metadata": {},
   "source": [
    "### Ans(15):"
   ]
  },
  {
   "cell_type": "code",
   "execution_count": 32,
   "id": "6af78cdb",
   "metadata": {},
   "outputs": [
    {
     "name": "stdout",
     "output_type": "stream",
     "text": [
      "Median: 5\n"
     ]
    }
   ],
   "source": [
    "def find_median(List):\n",
    "    sorted_List = sorted(List)\n",
    "    #print(sorted_numbers)\n",
    "    n = len(sorted_List)\n",
    "    #print(n)\n",
    "    if n % 2 == 0:\n",
    "        mid1 = n // 2\n",
    "        mid2 = mid1 - 1\n",
    "        median = (sorted_List[mid1] + sorted_List[mid2]) / 2\n",
    "    else:\n",
    "        mid = n // 2\n",
    "        median = sorted_List[mid]\n",
    "    return median\n",
    "\n",
    "# Example usage:\n",
    "List = [5, 2, 8, 4, 1, 9, 3, 7, 6]\n",
    "median = find_median(List)\n",
    "print(\"Median:\", median)\n"
   ]
  },
  {
   "cell_type": "markdown",
   "id": "81c09bf8",
   "metadata": {},
   "source": [
    "### Ans(16):"
   ]
  },
  {
   "cell_type": "code",
   "execution_count": 17,
   "id": "7bde0a0a",
   "metadata": {},
   "outputs": [
    {
     "name": "stdout",
     "output_type": "stream",
     "text": [
      "True\n",
      "False\n"
     ]
    }
   ],
   "source": [
    "def is_sorted(numbers):\n",
    "    n = len(numbers)\n",
    "    for i in range(1, n):\n",
    "        if numbers[i] < numbers[i-1]:\n",
    "            return False\n",
    "    return True\n",
    "\n",
    "# Example usage:\n",
    "numbers1 = [1, 2, 3, 4, 5]\n",
    "numbers2 = [7, 2, 9, 1, 5]\n",
    "print(is_sorted(numbers1))  # True\n",
    "print(is_sorted(numbers2))  # False"
   ]
  },
  {
   "cell_type": "markdown",
   "id": "84683e9f",
   "metadata": {},
   "source": [
    "### 2nd Method"
   ]
  },
  {
   "cell_type": "code",
   "execution_count": 20,
   "id": "a4a5c871",
   "metadata": {},
   "outputs": [
    {
     "name": "stdout",
     "output_type": "stream",
     "text": [
      "Yes, the list is sorted.\n"
     ]
    }
   ],
   "source": [
    "# initialize the list\n",
    "test_list = [1, 4, 5, 8, 10]\n",
    " \n",
    "# check if the list is sorted using zip() and all()\n",
    "is_sorted = all(a <= b for a, b in zip(test_list, test_list[1:]))\n",
    " \n",
    "# print the result\n",
    "if is_sorted:\n",
    "    print(\"Yes, the list is sorted.\")\n",
    "else:\n",
    "    print(\"No, the list is not sorted.\")"
   ]
  },
  {
   "cell_type": "markdown",
   "id": "2d682d5f",
   "metadata": {},
   "source": [
    "### Ans(17):"
   ]
  },
  {
   "cell_type": "code",
   "execution_count": 21,
   "id": "d6ae6db9",
   "metadata": {},
   "outputs": [
    {
     "name": "stdout",
     "output_type": "stream",
     "text": [
      "Intersection: [4, 5]\n"
     ]
    }
   ],
   "source": [
    "def find_intersection(list1, list2):\n",
    "    set1 = set(list1)\n",
    "    set2 = set(list2)\n",
    "    intersection = set1.intersection(set2)\n",
    "    return list(intersection)\n",
    "\n",
    "# Example usage:\n",
    "list1 = [1, 2, 3, 4, 5]\n",
    "list2 = [4, 5, 6, 7, 8]\n",
    "intersection = find_intersection(list1, list2)\n",
    "print(\"Intersection:\", intersection)"
   ]
  },
  {
   "cell_type": "markdown",
   "id": "ac5781bf",
   "metadata": {},
   "source": [
    "### 2nd Method"
   ]
  },
  {
   "cell_type": "code",
   "execution_count": 22,
   "id": "6b9f6a78",
   "metadata": {},
   "outputs": [
    {
     "name": "stdout",
     "output_type": "stream",
     "text": [
      "[9, 11, 26, 28]\n"
     ]
    }
   ],
   "source": [
    "# Python program to illustrate the intersection\n",
    "# of two lists in most simple way\n",
    "def intersection(lst1, lst2):\n",
    "    lst3 = [value for value in lst1 if value in lst2]\n",
    "    return lst3\n",
    " \n",
    "# Driver Code\n",
    "lst1 = [4, 9, 1, 17, 11, 26, 28, 54, 69]\n",
    "lst2 = [9, 9, 74, 21, 45, 11, 63, 28, 26]\n",
    "print(intersection(lst1, lst2))"
   ]
  },
  {
   "cell_type": "markdown",
   "id": "112fdec0",
   "metadata": {},
   "source": [
    "### Ans(18):"
   ]
  },
  {
   "cell_type": "code",
   "execution_count": 35,
   "id": "32e3e8f4",
   "metadata": {},
   "outputs": [
    {
     "name": "stdout",
     "output_type": "stream",
     "text": [
      "Maximum subarray sum: 6\n"
     ]
    }
   ],
   "source": [
    "def find_max_subarray_sum(nums):\n",
    "    max_sum = float('-inf')\n",
    "    current_sum = 0\n",
    "\n",
    "    for num in nums:\n",
    "        current_sum += num\n",
    "        if current_sum > max_sum:\n",
    "            max_sum = current_sum\n",
    "        if current_sum < 0:\n",
    "            current_sum = 0\n",
    "\n",
    "    return max_sum\n",
    "\n",
    "# Example usage:\n",
    "nums = [-2, 1, -3, 4, -1, 2, 1, -5, 4]\n",
    "max_sum = find_max_subarray_sum(nums)\n",
    "print(\"Maximum subarray sum:\", max_sum)"
   ]
  },
  {
   "cell_type": "code",
   "execution_count": 37,
   "id": "e96e8bfb",
   "metadata": {},
   "outputs": [
    {
     "data": {
      "image/png": "[encoded data removed]",
      "text/plain": [
       "<IPython.core.display.Image object>"
      ]
     },
     "execution_count": 37,
     "metadata": {},
     "output_type": "execute_result"
    }
   ],
   "source": [
    "##### Largest Sum Contiguous Subarray (Kadane’s Algorithm).\n",
    "from IPython.display import Image\n",
    "\n",
    "# Provide the path to the image file\n",
    "image_path = 'D:/kadane-Algorithm.png'\n",
    "\n",
    "# Display the image\n",
    "Image(filename=image_path)\n"
   ]
  },
  {
   "cell_type": "markdown",
   "id": "25eb099d",
   "metadata": {},
   "source": [
    "### Ans(19):"
   ]
  },
  {
   "cell_type": "code",
   "execution_count": 38,
   "id": "f27f294c",
   "metadata": {},
   "outputs": [
    {
     "name": "stdout",
     "output_type": "stream",
     "text": [
      "String without vowels: Hll, Wrld!\n"
     ]
    }
   ],
   "source": [
    "def remove_vowels(string):\n",
    "    vowels = ['a', 'e', 'i', 'o', 'u', 'A', 'E', 'I', 'O', 'U']\n",
    "    result = ''\n",
    "    for char in string:\n",
    "        if char not in vowels:\n",
    "            result += char\n",
    "    return result\n",
    "\n",
    "# Example usage:\n",
    "input_string = \"Hello, World!\"\n",
    "output_string = remove_vowels(input_string)\n",
    "print(\"String without vowels:\", output_string)\n"
   ]
  },
  {
   "cell_type": "markdown",
   "id": "a6613318",
   "metadata": {},
   "source": [
    "### Ans(20):"
   ]
  },
  {
   "cell_type": "code",
   "execution_count": 41,
   "id": "658e044c",
   "metadata": {},
   "outputs": [
    {
     "name": "stdout",
     "output_type": "stream",
     "text": [
      "Reversed sentence: sentence. a is This world! Hello,\n"
     ]
    }
   ],
   "source": [
    "def reverse_words(sentence):\n",
    "    words = sentence.split()  # Split the sentence into individual words\n",
    "    #print(words)\n",
    "    reversed_words = words[::-1]  # Reverse the order of words\n",
    "    #print(reverse_words)\n",
    "    reversed_sentence = ' '.join(reversed_words)  # Join the reversed words back into a sentence\n",
    "    #print(reversed_sentence)\n",
    "    return reversed_sentence\n",
    "\n",
    "# Example usage:\n",
    "input_sentence = \"Hello, world! This is a sentence.\"\n",
    "output_sentence = reverse_words(input_sentence)\n",
    "print(\"Reversed sentence:\", output_sentence)\n"
   ]
  },
  {
   "cell_type": "markdown",
   "id": "a516581f",
   "metadata": {},
   "source": [
    "### Ans(21):"
   ]
  },
  {
   "cell_type": "code",
   "execution_count": 45,
   "id": "f3d6ba22",
   "metadata": {},
   "outputs": [
    {
     "name": "stdout",
     "output_type": "stream",
     "text": [
      "The strings are anagrams.\n"
     ]
    }
   ],
   "source": [
    "def is_anagram(str1, str2):\n",
    "    str1 = str1.replace(\" \", \"\").lower()\n",
    "    #print(str1)\n",
    "    str2 = str2.replace(\" \", \"\").lower()\n",
    "    #print(str2) \n",
    "    #print(sorted(str1),sorted(str2)) #['e', 'i', 'l', 'n', 's', 't'] ['e', 'i', 'l', 'n', 's', 't']\n",
    "    return sorted(str1) == sorted(str2)\n",
    "\n",
    "string1 = \"listen\"\n",
    "string2 = \"silent\"\n",
    "if is_anagram(string1, string2):\n",
    "    print(\"The strings are anagrams.\")\n",
    "else:\n",
    "    print(\"The strings are not anagrams.\")\n"
   ]
  },
  {
   "cell_type": "markdown",
   "id": "5900ebcf",
   "metadata": {},
   "source": [
    "### Ans(22):"
   ]
  },
  {
   "cell_type": "code",
   "execution_count": 65,
   "id": "5da222a4",
   "metadata": {},
   "outputs": [
    {
     "name": "stdout",
     "output_type": "stream",
     "text": [
      "First non-repeating character: b\n",
      "No non-repeating character found.\n"
     ]
    }
   ],
   "source": [
    "def find_first_non_repeating_char(string):\n",
    "    char_count = {}\n",
    "\n",
    "    # Count the occurrences of each character\n",
    "    for char in string:\n",
    "        char_count[char] = char_count.get(char, 0) + 1\n",
    "\n",
    "    # Find the first non-repeating character\n",
    "    for char in string:\n",
    "        if char_count[char] == 1:\n",
    "            return char\n",
    "\n",
    "    # If no non-repeating character found, return None\n",
    "    return None\n",
    "\n",
    "# Example usage:\n",
    "input_string = \"aabccd\"\n",
    "non_repeating_char = find_first_non_repeating_char(input_string)\n",
    "if non_repeating_char is not None:\n",
    "    print(\"First non-repeating character:\", non_repeating_char)\n",
    "else:\n",
    "    print(\"No non-repeating character found.\")\n",
    "\n",
    "    \n",
    "# Example usage:\n",
    "input_string = \"aaccdd\"\n",
    "non_repeating_char = find_first_non_repeating_char(input_string)\n",
    "if non_repeating_char is not None:\n",
    "    print(\"First non-repeating character:\", non_repeating_char)\n",
    "else:\n",
    "    print(\"No non-repeating character found.\")\n"
   ]
  },
  {
   "cell_type": "markdown",
   "id": "903bb72d",
   "metadata": {},
   "source": [
    "## Note-\n",
    "dictionary.get(key, default)    \n",
    "The get() method takes two arguments:  \n",
    "\n",
    "key: The key for which you want to retrieve the value.   \n",
    "default (optional): The default value to be returned if the key is not found in the dictionary. If not specified, None is returned.  "
   ]
  },
  {
   "cell_type": "code",
   "execution_count": 52,
   "id": "c11d95f1",
   "metadata": {},
   "outputs": [
    {
     "name": "stdout",
     "output_type": "stream",
     "text": [
      "3\n",
      "None\n",
      "0\n",
      "2\n"
     ]
    }
   ],
   "source": [
    "fruit_count = {'apple': 3, 'banana': 2, 'orange': 5}\n",
    "\n",
    "print(fruit_count.get('apple'))         # Output: 3\n",
    "print(fruit_count.get('pear'))          # Output: None\n",
    "print(fruit_count.get('pear', 0))       # Output: 0\n",
    "print(fruit_count.get('banana', 0))     # Output: 2"
   ]
  },
  {
   "cell_type": "code",
   "execution_count": 54,
   "id": "a4607946",
   "metadata": {},
   "outputs": [
    {
     "name": "stdout",
     "output_type": "stream",
     "text": [
      "3\n",
      "2\n"
     ]
    },
    {
     "ename": "KeyError",
     "evalue": "'pear'",
     "output_type": "error",
     "traceback": [
      "\u001b[1;31m---------------------------------------------------------------------------\u001b[0m",
      "\u001b[1;31mKeyError\u001b[0m                                  Traceback (most recent call last)",
      "\u001b[1;32m~\\AppData\\Local\\Temp\\ipykernel_1280\\3875829652.py\u001b[0m in \u001b[0;36m<module>\u001b[1;34m\u001b[0m\n\u001b[0;32m      3\u001b[0m \u001b[0mprint\u001b[0m\u001b[1;33m(\u001b[0m\u001b[0mfruit_count\u001b[0m\u001b[1;33m[\u001b[0m\u001b[1;34m'apple'\u001b[0m\u001b[1;33m]\u001b[0m\u001b[1;33m)\u001b[0m         \u001b[1;31m# Output: 3\u001b[0m\u001b[1;33m\u001b[0m\u001b[1;33m\u001b[0m\u001b[0m\n\u001b[0;32m      4\u001b[0m \u001b[0mprint\u001b[0m\u001b[1;33m(\u001b[0m\u001b[0mfruit_count\u001b[0m\u001b[1;33m[\u001b[0m\u001b[1;34m'banana'\u001b[0m\u001b[1;33m]\u001b[0m\u001b[1;33m)\u001b[0m     \u001b[1;31m# Output: 2\u001b[0m\u001b[1;33m\u001b[0m\u001b[1;33m\u001b[0m\u001b[0m\n\u001b[1;32m----> 5\u001b[1;33m \u001b[0mprint\u001b[0m\u001b[1;33m(\u001b[0m\u001b[0mfruit_count\u001b[0m\u001b[1;33m[\u001b[0m\u001b[1;34m'pear'\u001b[0m\u001b[1;33m]\u001b[0m\u001b[1;33m)\u001b[0m          \u001b[1;31m# Output: None\u001b[0m\u001b[1;33m\u001b[0m\u001b[1;33m\u001b[0m\u001b[0m\n\u001b[0m",
      "\u001b[1;31mKeyError\u001b[0m: 'pear'"
     ]
    }
   ],
   "source": [
    "fruit_count = {'apple': 3, 'banana': 2, 'orange': 5}\n",
    "\n",
    "print(fruit_count['apple'])         # Output: 3\n",
    "print(fruit_count['banana'])     # Output: 2\n",
    "print(fruit_count['pear'])          # Output: None\n"
   ]
  },
  {
   "cell_type": "markdown",
   "id": "a4ead164",
   "metadata": {},
   "source": [
    "### Ans(23):"
   ]
  },
  {
   "cell_type": "code",
   "execution_count": 66,
   "id": "d7f4a1fd",
   "metadata": {},
   "outputs": [
    {
     "name": "stdout",
     "output_type": "stream",
     "text": [
      "Prime factors of 84 : [2, 2, 3, 7]\n"
     ]
    }
   ],
   "source": [
    "def find_prime_factors(number):\n",
    "    factors = []\n",
    "    divisor = 2\n",
    "\n",
    "    while divisor <= number:\n",
    "        if number % divisor == 0:\n",
    "            factors.append(divisor)\n",
    "            number = number // divisor\n",
    "        else:\n",
    "            divisor += 1\n",
    "\n",
    "    return factors\n",
    "\n",
    "# Example usage:\n",
    "number = 84\n",
    "prime_factors = find_prime_factors(number)\n",
    "print(\"Prime factors of\", number, \":\", prime_factors)\n"
   ]
  },
  {
   "cell_type": "markdown",
   "id": "0cb924b1",
   "metadata": {},
   "source": [
    "### Ans(24):"
   ]
  },
  {
   "cell_type": "code",
   "execution_count": 68,
   "id": "3560e852",
   "metadata": {},
   "outputs": [
    {
     "name": "stdout",
     "output_type": "stream",
     "text": [
      "True\n",
      "False\n",
      "True\n"
     ]
    }
   ],
   "source": [
    "def is_power_of_two(number):\n",
    "    if number <= 0:\n",
    "        return False\n",
    "    return (number & (number - 1)) == 0\n",
    "\n",
    "# Example usage:\n",
    "num1 = 8\n",
    "num2 = 10\n",
    "num3 = 32\n",
    "print(is_power_of_two(num1))  # True\n",
    "print(is_power_of_two(num2))  # False\n",
    "print(is_power_of_two(num3))  # True"
   ]
  },
  {
   "cell_type": "markdown",
   "id": "e98ff62d",
   "metadata": {},
   "source": [
    "## Note-\n",
    "For a power of two number, let's say number = 8, its binary representation is 1000.  \n",
    "The decrement of this number is number - 1 = 7, which has a binary representation of 0111.  \n",
    "Now, let's evaluate (number & (number - 1)) for this example:  \n",
    "    \n",
    "number = 8 in binary is 1000.    \n",
    "number - 1 = 7 in binary is 0111.   \n",
    "Performing the bitwise AND operation: 1000 & 0111 results in 0000, which is zero.  \n",
    "\n",
    "So, if a number is a power of two, the bitwise AND of the number and its decrement will always be zero.   "
   ]
  },
  {
   "cell_type": "markdown",
   "id": "45869b57",
   "metadata": {},
   "source": [
    "### Ans(25):"
   ]
  },
  {
   "cell_type": "code",
   "execution_count": 70,
   "id": "0a834de2",
   "metadata": {},
   "outputs": [
    {
     "name": "stdout",
     "output_type": "stream",
     "text": [
      "Merged list: [1, 2, 3, 4, 5, 6, 7, 8, 9, 10]\n"
     ]
    }
   ],
   "source": [
    "def merge_sorted_lists(list1, list2):\n",
    "    merged_list = []\n",
    "    i = 0  # Index for list1\n",
    "    j = 0  # Index for list2\n",
    "\n",
    "    # Merge the two lists while maintaining sorted order\n",
    "    while i < len(list1) and j < len(list2):\n",
    "        if list1[i] <= list2[j]:\n",
    "            merged_list.append(list1[i])\n",
    "            i += 1\n",
    "        else:\n",
    "            merged_list.append(list2[j])\n",
    "            j += 1\n",
    "\n",
    "    # Append the remaining elements from list1 (if any)\n",
    "    while i < len(list1):\n",
    "        merged_list.append(list1[i])\n",
    "        i += 1\n",
    "\n",
    "    # Append the remaining elements from list2 (if any)\n",
    "    while j < len(list2):\n",
    "        merged_list.append(list2[j])\n",
    "        j += 1\n",
    "\n",
    "    return merged_list\n",
    "\n",
    "# Example usage:\n",
    "list1 = [1, 3, 5, 7, 9, 10]\n",
    "list2 = [2, 4, 6, 8]\n",
    "merged = merge_sorted_lists(list1, list2)\n",
    "print(\"Merged list:\", merged)\n"
   ]
  },
  {
   "cell_type": "markdown",
   "id": "654744d3",
   "metadata": {},
   "source": [
    "### 2nd Metod"
   ]
  },
  {
   "cell_type": "code",
   "execution_count": 71,
   "id": "3e26c6f6",
   "metadata": {},
   "outputs": [
    {
     "name": "stdout",
     "output_type": "stream",
     "text": [
      "The original list 1 is : [1, 5, 6, 9, 11]\n",
      "The original list 2 is : [3, 4, 7, 8, 10]\n",
      "The combined sorted list is : [1, 3, 4, 5, 6, 7, 8, 9, 10, 11]\n"
     ]
    }
   ],
   "source": [
    "# Python3 code to demonstrate\n",
    "# to combine two sorted list\n",
    "# using sorted()\n",
    " \n",
    "# initializing lists\n",
    "test_list1 = [1, 5, 6, 9, 11]\n",
    "test_list2 = [3, 4, 7, 8, 10]\n",
    " \n",
    "# printing original lists\n",
    "print (\"The original list 1 is : \" + str(test_list1))\n",
    "print (\"The original list 2 is : \" + str(test_list2))\n",
    " \n",
    "# using sorted()\n",
    "# to combine two sorted lists\n",
    "res = sorted(test_list1 + test_list2)\n",
    " \n",
    "# printing result\n",
    "print (\"The combined sorted list is : \" + str(res))"
   ]
  },
  {
   "cell_type": "markdown",
   "id": "bb128ae9",
   "metadata": {},
   "source": [
    "### Ans(26):"
   ]
  },
  {
   "cell_type": "code",
   "execution_count": 75,
   "id": "6eb01a8f",
   "metadata": {},
   "outputs": [
    {
     "name": "stdout",
     "output_type": "stream",
     "text": [
      "Mode of given number is:  4\n"
     ]
    }
   ],
   "source": [
    "import statistics\n",
    "lst = [1, 2, 2, 3, 3, 3, 4, 4, 4, 4]\n",
    "print(\"Mode of given number is: \", statistics.mode(lst))"
   ]
  },
  {
   "cell_type": "markdown",
   "id": "dea296e1",
   "metadata": {},
   "source": [
    "### Ans(27):"
   ]
  },
  {
   "cell_type": "code",
   "execution_count": 77,
   "id": "b320dc11",
   "metadata": {},
   "outputs": [
    {
     "name": "stdout",
     "output_type": "stream",
     "text": [
      "GCD of 36 and 48 is: 12\n"
     ]
    }
   ],
   "source": [
    "def gcd(a, b):\n",
    "    while b != 0:\n",
    "        a, b = b, a % b\n",
    "    return a\n",
    "\n",
    "# Example usage:\n",
    "num1 = 36\n",
    "num2 = 48\n",
    "result = gcd(num1, num2)\n",
    "print(\"GCD of\", num1, \"and\", num2, \"is:\", result)\n"
   ]
  },
  {
   "cell_type": "markdown",
   "id": "71c8f838",
   "metadata": {},
   "source": [
    "### 2nd Method"
   ]
  },
  {
   "cell_type": "code",
   "execution_count": 76,
   "id": "34bf2e22",
   "metadata": {},
   "outputs": [
    {
     "name": "stdout",
     "output_type": "stream",
     "text": [
      "GCD of 36 and 48 is: 12\n"
     ]
    }
   ],
   "source": [
    "import math\n",
    "\n",
    "def gcd(a, b):\n",
    "    return math.gcd(a, b)\n",
    "\n",
    "# Example usage:\n",
    "num1 = 36\n",
    "num2 = 48\n",
    "result = gcd(num1, num2)\n",
    "print(\"GCD of\", num1, \"and\", num2, \"is:\", result)\n"
   ]
  },
  {
   "cell_type": "markdown",
   "id": "b853c9be",
   "metadata": {},
   "source": [
    "### Ans(28):"
   ]
  },
  {
   "cell_type": "code",
   "execution_count": 78,
   "id": "42744298",
   "metadata": {},
   "outputs": [
    {
     "name": "stdout",
     "output_type": "stream",
     "text": [
      "Square root of 25 is: 5.0\n"
     ]
    }
   ],
   "source": [
    "def sqrt(number):\n",
    "    if number < 0:\n",
    "        raise ValueError(\"Square root is not defined for negative numbers.\")\n",
    "    if number == 0:\n",
    "        return 0\n",
    "\n",
    "    # Initial guess for the square root\n",
    "    guess = number / 2\n",
    "\n",
    "    # Improve the approximation using Newton's method\n",
    "    while True:\n",
    "        new_guess = (guess + number / guess) / 2\n",
    "        if abs(new_guess - guess) < 1e-9:\n",
    "            return new_guess\n",
    "        guess = new_guess\n",
    "\n",
    "# Example usage:\n",
    "number = 25\n",
    "result = sqrt(number)\n",
    "print(\"Square root of\", number, \"is:\", result)\n"
   ]
  },
  {
   "cell_type": "code",
   "execution_count": 79,
   "id": "2503cfe0",
   "metadata": {},
   "outputs": [
    {
     "name": "stdout",
     "output_type": "stream",
     "text": [
      "Square root of 25 is: 5.0\n"
     ]
    }
   ],
   "source": [
    "import math\n",
    "\n",
    "def calculate_square_root(number):\n",
    "    if number < 0:\n",
    "        raise ValueError(\"Square root is not defined for negative numbers.\")\n",
    "    return math.sqrt(number)\n",
    "\n",
    "# Example usage:\n",
    "number = 25\n",
    "result = calculate_square_root(number)\n",
    "print(\"Square root of\", number, \"is:\", result)\n"
   ]
  },
  {
   "cell_type": "markdown",
   "id": "f47fc533",
   "metadata": {},
   "source": [
    "### Ans(29):"
   ]
  },
  {
   "cell_type": "code",
   "execution_count": 80,
   "id": "34555329",
   "metadata": {},
   "outputs": [
    {
     "name": "stdout",
     "output_type": "stream",
     "text": [
      "The string is a valid palindrome.\n"
     ]
    }
   ],
   "source": [
    "import re\n",
    "\n",
    "def is_valid_palindrome(string):\n",
    "    # Remove non-alphanumeric characters and convert to lowercase\n",
    "    cleaned_string = re.sub(r'[^a-zA-Z0-9]', '', string).lower()\n",
    "\n",
    "    # Check if the cleaned string is equal to its reverse\n",
    "    return cleaned_string == cleaned_string[::-1]\n",
    "\n",
    "# Example usage:\n",
    "input_string = \"A man, a plan, a canal: Panama\"\n",
    "if is_valid_palindrome(input_string):\n",
    "    print(\"The string is a valid palindrome.\")\n",
    "else:\n",
    "    print(\"The string is not a valid palindrome.\")"
   ]
  },
  {
   "cell_type": "markdown",
   "id": "a7196c06",
   "metadata": {},
   "source": [
    "### Ans(30):"
   ]
  },
  {
   "cell_type": "code",
   "execution_count": 83,
   "id": "63f31ef1",
   "metadata": {},
   "outputs": [
    {
     "name": "stdout",
     "output_type": "stream",
     "text": [
      "Minimum element: 0\n"
     ]
    }
   ],
   "source": [
    "def find_minimum(rotated_list):\n",
    "    left = 0\n",
    "    right = len(rotated_list) - 1\n",
    "\n",
    "    # If the list is not rotated, return the first element\n",
    "    if rotated_list[left] <= rotated_list[right]:\n",
    "        return rotated_list[left]\n",
    "\n",
    "    # Perform binary search to find the minimum element\n",
    "    while left < right:\n",
    "        mid = (left + right) // 2\n",
    "\n",
    "        # Check if the mid element is the minimum\n",
    "        if rotated_list[mid] > rotated_list[mid + 1]:\n",
    "            return rotated_list[mid + 1]\n",
    "\n",
    "        # Check if the mid element is greater than the rightmost element\n",
    "        if rotated_list[mid] > rotated_list[right]:\n",
    "            left = mid + 1\n",
    "        else:\n",
    "            right = mid\n",
    "\n",
    "    return rotated_list[left]\n",
    "\n",
    "# Example usage:\n",
    "nums = [4, 5, 6, 7, 0, 1, 2]\n",
    "minimum = find_minimum(nums)\n",
    "print(\"Minimum element:\", minimum)"
   ]
  },
  {
   "cell_type": "markdown",
   "id": "5e99b9cb",
   "metadata": {},
   "source": [
    "### Ans(31):"
   ]
  },
  {
   "cell_type": "code",
   "execution_count": 85,
   "id": "47a1139f",
   "metadata": {},
   "outputs": [
    {
     "name": "stdout",
     "output_type": "stream",
     "text": [
      "Sum of even numbers: 30\n"
     ]
    }
   ],
   "source": [
    "def sum_of_even_numbers(numbers):\n",
    "    sum = 0\n",
    "    for num in numbers:\n",
    "        if num % 2 == 0:\n",
    "            sum += num\n",
    "    return sum\n",
    "\n",
    "# Example usage:\n",
    "number_list = [1, 2, 3, 4, 5, 6, 7, 8, 9, 10]\n",
    "even_sum = sum_of_even_numbers(number_list)\n",
    "print(\"Sum of even numbers:\", even_sum)\n"
   ]
  },
  {
   "cell_type": "markdown",
   "id": "249d8b51",
   "metadata": {},
   "source": [
    "### Ans(32):"
   ]
  },
  {
   "cell_type": "code",
   "execution_count": 86,
   "id": "491b3c53",
   "metadata": {},
   "outputs": [
    {
     "name": "stdout",
     "output_type": "stream",
     "text": [
      "Result: 32\n"
     ]
    }
   ],
   "source": [
    "def power(base, exponent):\n",
    "    if exponent == 0:\n",
    "        return 1\n",
    "    elif exponent > 0:\n",
    "        return base * power(base, exponent - 1)\n",
    "    else:\n",
    "        return 1 / (base * power(base, -exponent - 1))\n",
    "\n",
    "# Example usage:\n",
    "base = 2\n",
    "exponent = 5\n",
    "result = power(base, exponent)\n",
    "print(\"Result:\", result)"
   ]
  },
  {
   "cell_type": "markdown",
   "id": "b6d89932",
   "metadata": {},
   "source": [
    "### Ans(33):"
   ]
  },
  {
   "cell_type": "code",
   "execution_count": 87,
   "id": "6e8e383f",
   "metadata": {},
   "outputs": [
    {
     "name": "stdout",
     "output_type": "stream",
     "text": [
      "List with duplicates removed: [1, 3, 2, 4, 5, 6]\n"
     ]
    }
   ],
   "source": [
    "def remove_duplicates(input_list):\n",
    "    seen = set()\n",
    "    output_list = []\n",
    "    \n",
    "    for item in input_list:\n",
    "        if item not in seen:\n",
    "            output_list.append(item)\n",
    "            seen.add(item)\n",
    "    \n",
    "    return output_list\n",
    "\n",
    "# Example usage:\n",
    "my_list = [1, 3, 2, 1, 4, 2, 5, 3, 6, 4, 5]\n",
    "result = remove_duplicates(my_list)\n",
    "print(\"List with duplicates removed:\", result)\n"
   ]
  },
  {
   "cell_type": "markdown",
   "id": "8304f012",
   "metadata": {},
   "source": [
    "### Ans(34):"
   ]
  },
  {
   "cell_type": "code",
   "execution_count": 88,
   "id": "0c49f7f3",
   "metadata": {},
   "outputs": [
    {
     "name": "stdout",
     "output_type": "stream",
     "text": [
      "Longest common prefix: fl\n"
     ]
    }
   ],
   "source": [
    "def longest_common_prefix(strings):\n",
    "    if not strings:\n",
    "        return \"\"\n",
    "\n",
    "    min_length = min(len(string) for string in strings)\n",
    "    longest_prefix = \"\"\n",
    "\n",
    "    for i in range(min_length):\n",
    "        current_char = strings[0][i]\n",
    "\n",
    "        for string in strings[1:]:\n",
    "            if string[i] != current_char:\n",
    "                return longest_prefix\n",
    "\n",
    "        longest_prefix += current_char\n",
    "\n",
    "    return longest_prefix\n",
    "\n",
    "# Example usage:\n",
    "string_list = [\"flower\", \"flow\", \"flight\"]\n",
    "prefix = longest_common_prefix(string_list)\n",
    "print(\"Longest common prefix:\", prefix)\n"
   ]
  },
  {
   "cell_type": "markdown",
   "id": "6c2468ca",
   "metadata": {},
   "source": [
    "### Ans(35):"
   ]
  },
  {
   "cell_type": "code",
   "execution_count": 89,
   "id": "fab17b62",
   "metadata": {},
   "outputs": [
    {
     "name": "stdout",
     "output_type": "stream",
     "text": [
      "True\n",
      "False\n"
     ]
    }
   ],
   "source": [
    "def is_perfect_square(number):\n",
    "    if number < 0:\n",
    "        return False\n",
    "\n",
    "    sqrt = int(number ** 0.5)\n",
    "    return sqrt * sqrt == number\n",
    "\n",
    "# Example usage:\n",
    "num1 = 16\n",
    "num2 = 27\n",
    "print(is_perfect_square(num1))  # True\n",
    "print(is_perfect_square(num2))  # False\n"
   ]
  },
  {
   "cell_type": "markdown",
   "id": "e2b29e37",
   "metadata": {},
   "source": [
    "### Ans(36):"
   ]
  },
  {
   "cell_type": "code",
   "execution_count": 90,
   "id": "7a8bf6e8",
   "metadata": {},
   "outputs": [
    {
     "name": "stdout",
     "output_type": "stream",
     "text": [
      "Product: 120\n"
     ]
    }
   ],
   "source": [
    "def calculate_product(numbers):\n",
    "    if not numbers:\n",
    "        return 0\n",
    "\n",
    "    product = 1\n",
    "    for num in numbers:\n",
    "        product *= num\n",
    "\n",
    "    return product\n",
    "\n",
    "# Example usage:\n",
    "number_list = [2, 3, 4, 5]\n",
    "result = calculate_product(number_list)\n",
    "print(\"Product:\", result)\n"
   ]
  },
  {
   "cell_type": "markdown",
   "id": "beeeb058",
   "metadata": {},
   "source": [
    "### Ans(37):"
   ]
  },
  {
   "cell_type": "code",
   "execution_count": 91,
   "id": "7e1eb05c",
   "metadata": {},
   "outputs": [
    {
     "name": "stdout",
     "output_type": "stream",
     "text": [
      "Reversed sentence: today? you are how Hello,\n"
     ]
    }
   ],
   "source": [
    "def reverse_word_order(sentence):\n",
    "    words = sentence.split()\n",
    "    reversed_words = words[::-1]\n",
    "    reversed_sentence = \" \".join(reversed_words)\n",
    "    return reversed_sentence\n",
    "\n",
    "# Example usage:\n",
    "input_sentence = \"Hello, how are you today?\"\n",
    "reversed_sentence = reverse_word_order(input_sentence)\n",
    "print(\"Reversed sentence:\", reversed_sentence)\n"
   ]
  },
  {
   "cell_type": "markdown",
   "id": "7a530d99",
   "metadata": {},
   "source": [
    "### Ans(38):"
   ]
  },
  {
   "cell_type": "code",
   "execution_count": 92,
   "id": "20260d22",
   "metadata": {},
   "outputs": [
    {
     "name": "stdout",
     "output_type": "stream",
     "text": [
      "Missing number: 4\n"
     ]
    }
   ],
   "source": [
    "def find_missing_number(numbers):\n",
    "    n = len(numbers) + 1\n",
    "    expected_sum = (n * (n + 1)) // 2\n",
    "    actual_sum = sum(numbers)\n",
    "    missing_number = expected_sum - actual_sum\n",
    "    return missing_number\n",
    "\n",
    "# Example usage:\n",
    "number_list = [1, 2, 3, 5, 6, 7, 8]\n",
    "missing_number = find_missing_number(number_list)\n",
    "print(\"Missing number:\", missing_number)\n"
   ]
  },
  {
   "cell_type": "markdown",
   "id": "b72aa64b",
   "metadata": {},
   "source": [
    "### Ans(39):"
   ]
  },
  {
   "cell_type": "code",
   "execution_count": 93,
   "id": "e1dd851c",
   "metadata": {},
   "outputs": [
    {
     "name": "stdout",
     "output_type": "stream",
     "text": [
      "Sum of digits: 15\n"
     ]
    }
   ],
   "source": [
    "def sum_of_digits(number):\n",
    "    sum = 0\n",
    "    while number > 0:\n",
    "        digit = number % 10\n",
    "        sum += digit\n",
    "        number //= 10\n",
    "    return sum\n",
    "\n",
    "# Example usage:\n",
    "num = 12345\n",
    "result = sum_of_digits(num)\n",
    "print(\"Sum of digits:\", result)\n"
   ]
  },
  {
   "cell_type": "code",
   "execution_count": null,
   "id": "5a5d9857",
   "metadata": {},
   "outputs": [],
   "source": []
  }
 ],
 "metadata": {
  "kernelspec": {
   "display_name": "Python 3 (ipykernel)",
   "language": "python",
   "name": "python3"
  },
  "language_info": {
   "codemirror_mode": {
    "name": "ipython",
    "version": 3
   },
   "file_extension": ".py",
   "mimetype": "text/x-python",
   "name": "python",
   "nbconvert_exporter": "python",
   "pygments_lexer": "ipython3",
   "version": "3.9.13"
  }
 },
 "nbformat": 4,
 "nbformat_minor": 5
}
